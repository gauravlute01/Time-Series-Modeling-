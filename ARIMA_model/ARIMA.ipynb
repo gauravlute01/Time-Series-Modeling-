{
 "cells": [
  {
   "cell_type": "code",
   "execution_count": 1,
   "id": "8bc603ab",
   "metadata": {},
   "outputs": [],
   "source": [
    "import pandas as pd\n",
    "import numpy as np \n",
    "import matplotlib.pyplot as plt \n",
    "from matplotlib import pyplot \n",
    "from statsmodels.graphics.tsaplots import plot_acf, plot_pacf\n",
    "from pandas import Series\n",
    "from statsmodels.tsa.arima.model import ARIMA\n",
    "#from pmdarima import auto_arima\n",
    "from math import sqrt \n",
    "from sklearn.metrics import mean_squared_error\n",
    "import warnings \n",
    "import time"
   ]
  },
  {
   "cell_type": "code",
   "execution_count": null,
   "id": "eafdadbc",
   "metadata": {},
   "outputs": [],
   "source": [
    "df_2 = pd.read_csv()"
   ]
  },
  {
   "cell_type": "code",
   "execution_count": null,
   "id": "7f118521",
   "metadata": {},
   "outputs": [],
   "source": []
  }
 ],
 "metadata": {
  "kernelspec": {
   "display_name": "Python 3",
   "language": "python",
   "name": "python3"
  },
  "language_info": {
   "codemirror_mode": {
    "name": "ipython",
    "version": 3
   },
   "file_extension": ".py",
   "mimetype": "text/x-python",
   "name": "python",
   "nbconvert_exporter": "python",
   "pygments_lexer": "ipython3",
   "version": "3.12.0"
  }
 },
 "nbformat": 4,
 "nbformat_minor": 5
}
